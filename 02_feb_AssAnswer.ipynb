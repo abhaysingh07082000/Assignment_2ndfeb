{
 "cells": [
  {
   "cell_type": "markdown",
   "id": "3146d960-dcae-4dc8-aa35-5787c33c7f1e",
   "metadata": {},
   "source": [
    "AssignmentNo-01"
   ]
  },
  {
   "cell_type": "code",
   "execution_count": 1,
   "id": "4ac78bc4-dbdb-4d9f-b8f6-af024d593446",
   "metadata": {},
   "outputs": [],
   "source": [
    "#Question-Explain with an example each when to use a for loop and a while loop."
   ]
  },
  {
   "cell_type": "code",
   "execution_count": 2,
   "id": "7e30815e-508c-473f-9675-840b35562e1c",
   "metadata": {},
   "outputs": [],
   "source": [
    "#Answer \n",
    "\"\"\"A for loop is used to iterate over a sequence (like a list, range, or string) and repeat a block of code a specific number of times.\n",
    "use-When we know in advance that how many times we need to execute the block of code \"\"\"\n",
    "\n",
    "#Example-\n",
    "for i in range(1, 6):\n",
    "    print(i)\n",
    "\n",
    "\"\"\"A while loop repeatedly executes a block of code as long as a specified condition remains true. When condition\n",
    "false loop will terminated.\n",
    "\n",
    "Use- a while loop when we don't know in advance that how many times we need to execute the block of code.\"\"\"\n",
    "\n",
    "#Example-\n",
    "user_input=\"\"\n",
    "while user_input != \"Alice\":\n",
    "    user_input = input(\"What's your name? \")\n",
    "    if user_input != \"Alice\":\n",
    "        print(\"Try again!\")\n",
    "\n",
    "print(\"Hello, Alice!\")"
   ]
  },
  {
   "cell_type": "code",
   "execution_count": 3,
   "id": "f9ed5764-8838-4518-aeb9-7a729541db5f",
   "metadata": {},
   "outputs": [],
   "source": [
    "#Q2. Write a python program to print the sum and product of the first 10 natural numbers using for\n",
    "#and while loop."
   ]
  },
  {
   "cell_type": "code",
   "execution_count": 4,
   "id": "49fd074e-c140-458a-ada0-d542d170d3ce",
   "metadata": {},
   "outputs": [],
   "source": [
    "#using for loop"
   ]
  },
  {
   "cell_type": "code",
   "execution_count": 9,
   "id": "3d31ff2a-9d48-4c25-bc09-cca3eaf34db9",
   "metadata": {},
   "outputs": [
    {
     "name": "stdout",
     "output_type": "stream",
     "text": [
      "using for loop sum and product  55 3628800\n",
      "Using while loop sum and product 55 3628800\n"
     ]
    }
   ],
   "source": [
    "sum=0\n",
    "product=1\n",
    "for i in range(1,11):\n",
    "    sum=sum+i\n",
    "    product=product*i\n",
    "\n",
    "print(\"using for loop sum and product \",sum,product)\n",
    "\n",
    "#using while loop\n",
    "sum1=0\n",
    "product1=1\n",
    "i=1\n",
    "while i<=10:\n",
    "    sum1=sum1+i\n",
    "    product1=product1*i\n",
    "    i=i+1\n",
    "\n",
    "print(\"Using while loop sum and product\",sum1,product1)"
   ]
  },
  {
   "cell_type": "code",
   "execution_count": 10,
   "id": "64628f7e-89c6-4e23-ad0d-1e1468f47c18",
   "metadata": {},
   "outputs": [],
   "source": [
    "#Create a python program to compute the electricity bill for a household.\n",
    "#The per-unit charges in rupees are as follows: For the first 100 units, the user will be charged Rs. 4.5 per\n",
    "#unit, for the next 100 units, the user will be charged Rs. 6 per unit, and for the next 100 units, the user will\n",
    "#be charged Rs. 10 per unit, After 300 units and above the user will be charged Rs. 20 per unit.\n",
    "#You are required to take the units of electricity consumed in a month from the user as input.\n",
    "#Your program must pass this test case: when the unit of electricity consumed by the user in a month is\n",
    "#310, the total electricity bill should be 2250."
   ]
  },
  {
   "cell_type": "code",
   "execution_count": 13,
   "id": "054d5e9b-69a2-4c87-8d83-77ee95c715dc",
   "metadata": {},
   "outputs": [
    {
     "name": "stdin",
     "output_type": "stream",
     "text": [
      "Enter the number of units in a month 310\n"
     ]
    },
    {
     "data": {
      "text/plain": [
       "2250.0"
      ]
     },
     "execution_count": 13,
     "metadata": {},
     "output_type": "execute_result"
    }
   ],
   "source": [
    "unit=int(input(\"Enter the number of units in a month\"))\n",
    "\n",
    "total_bill=0\n",
    "\n",
    "if unit<100:\n",
    "    print(\"Total_bill=\",unit*4.5)\n",
    "elif unit>=100 and unit <=200:\n",
    "    total_bill=100*4.5+(unit-100)*6\n",
    "elif unit>200 and unit <= 300:\n",
    "    total_bill=100*4.5+100*6+(unit-200)*10\n",
    "else:\n",
    "    total_bill=100*4.5+100*6+100*10+(unit-300)*20\n",
    "    \n",
    "total_bill"
   ]
  },
  {
   "cell_type": "code",
   "execution_count": 14,
   "id": "bf59d7e9-dd70-4485-95a9-9622b760d5d4",
   "metadata": {},
   "outputs": [],
   "source": [
    "#Q4. Create a list of numbers from 1 to 100. Use for loop and while loop to calculate the cube of each\n",
    "#number and if the cube of that number is divisible by 4 or 5 then append that number in a list and print\n",
    "#that list."
   ]
  },
  {
   "cell_type": "code",
   "execution_count": 2,
   "id": "387edfac-6f48-4b76-90b1-6b7b24228345",
   "metadata": {},
   "outputs": [],
   "source": [
    "num_list=[]\n",
    "for i in range(1,101):\n",
    "    num_list.append(i)\n",
    "\n",
    "cube_list=[]\n",
    "result=[]\n",
    "for i in num_list:\n",
    "    cube_list.append(i**3)\n",
    "    if (i**3)%4==0 or (i**3)%5==0:\n",
    "        result.append(i**3)\n",
    "\n",
    "\n",
    "cube_l=[]\n",
    "res=[]\n",
    "i=0\n",
    "while i < len(num_list):\n",
    "    num = num_list[i]\n",
    "    cube = num ** 3\n",
    "    cube_l.append(cube)\n",
    "    if (cube)%4==0 or (cube)%5==0:\n",
    "        res.append(cube)\n",
    "    i=i+1    \n",
    "\n",
    "  \n",
    "\n",
    "\n",
    "    \n",
    "        "
   ]
  },
  {
   "cell_type": "code",
   "execution_count": 10,
   "id": "092de052-f979-442d-aa15-b2a85cd43020",
   "metadata": {},
   "outputs": [
    {
     "name": "stdout",
     "output_type": "stream",
     "text": [
      "[1, 8, 27, 64, 125, 216, 343, 512, 729, 1000, 1331, 1728, 2197, 2744, 3375, 4096, 4913, 5832, 6859, 8000, 9261, 10648, 12167, 13824, 15625, 17576, 19683, 21952, 24389, 27000, 29791, 32768, 35937, 39304, 42875, 46656, 50653, 54872, 59319, 64000, 68921, 74088, 79507, 85184, 91125, 97336, 103823, 110592, 117649, 125000, 132651, 140608, 148877, 157464, 166375, 175616, 185193, 195112, 205379, 216000, 226981, 238328, 250047, 262144, 274625, 287496, 300763, 314432, 328509, 343000, 357911, 373248, 389017, 405224, 421875, 438976, 456533, 474552, 493039, 512000, 531441, 551368, 571787, 592704, 614125, 636056, 658503, 681472, 704969, 729000, 753571, 778688, 804357, 830584, 857375, 884736, 912673, 941192, 970299, 1000000] "
     ]
    }
   ],
   "source": [
    "print(cube_l,end=' ')\n"
   ]
  },
  {
   "cell_type": "code",
   "execution_count": 11,
   "id": "7b6139bd-08b5-4a41-ba8d-478e9fdcc19f",
   "metadata": {},
   "outputs": [
    {
     "name": "stdout",
     "output_type": "stream",
     "text": [
      "[1, 8, 27, 64, 125, 216, 343, 512, 729, 1000, 1331, 1728, 2197, 2744, 3375, 4096, 4913, 5832, 6859, 8000, 9261, 10648, 12167, 13824, 15625, 17576, 19683, 21952, 24389, 27000, 29791, 32768, 35937, 39304, 42875, 46656, 50653, 54872, 59319, 64000, 68921, 74088, 79507, 85184, 91125, 97336, 103823, 110592, 117649, 125000, 132651, 140608, 148877, 157464, 166375, 175616, 185193, 195112, 205379, 216000, 226981, 238328, 250047, 262144, 274625, 287496, 300763, 314432, 328509, 343000, 357911, 373248, 389017, 405224, 421875, 438976, 456533, 474552, 493039, 512000, 531441, 551368, 571787, 592704, 614125, 636056, 658503, 681472, 704969, 729000, 753571, 778688, 804357, 830584, 857375, 884736, 912673, 941192, 970299, 1000000] "
     ]
    }
   ],
   "source": [
    "print(cube_list,end=' ')"
   ]
  },
  {
   "cell_type": "code",
   "execution_count": 12,
   "id": "5fd3b16d-10fa-487b-99f7-7341ca4fa147",
   "metadata": {},
   "outputs": [],
   "source": [
    "#Q5. Write a program to filter count vowels in the below-given string.\n",
    "#string = \"I want to become a data scientist\""
   ]
  },
  {
   "cell_type": "code",
   "execution_count": 14,
   "id": "faa3945d-6706-4559-b476-f1a5d94f2ca8",
   "metadata": {},
   "outputs": [],
   "source": [
    "string = \"I want to become a data scientist\"\n",
    "vowels_count=0\n",
    "for i in string:\n",
    "    list=['a','e','i','u','o','A','E','O','U','I']\n",
    "    if i in list:\n",
    "        vowels_count=vowels_count+1"
   ]
  },
  {
   "cell_type": "code",
   "execution_count": 15,
   "id": "66ecffce-91ab-4206-8c5c-0cf4ff06825a",
   "metadata": {},
   "outputs": [
    {
     "data": {
      "text/plain": [
       "12"
      ]
     },
     "execution_count": 15,
     "metadata": {},
     "output_type": "execute_result"
    }
   ],
   "source": [
    "vowels_count"
   ]
  },
  {
   "cell_type": "code",
   "execution_count": null,
   "id": "ba207d89-1fb2-44b2-853e-f78e33852e9d",
   "metadata": {},
   "outputs": [],
   "source": []
  }
 ],
 "metadata": {
  "kernelspec": {
   "display_name": "Python 3 (ipykernel)",
   "language": "python",
   "name": "python3"
  },
  "language_info": {
   "codemirror_mode": {
    "name": "ipython",
    "version": 3
   },
   "file_extension": ".py",
   "mimetype": "text/x-python",
   "name": "python",
   "nbconvert_exporter": "python",
   "pygments_lexer": "ipython3",
   "version": "3.12.4"
  }
 },
 "nbformat": 4,
 "nbformat_minor": 5
}
